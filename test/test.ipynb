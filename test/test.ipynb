{
 "cells": [
  {
   "cell_type": "code",
   "execution_count": 15,
   "metadata": {},
   "outputs": [
    {
     "name": "stdout",
     "output_type": "stream",
     "text": [
      "[0.37454012 0.95071431 0.73199394 0.59865848 0.15601864]\n",
      "[0.15599452 0.05808361 0.86617615 0.60111501 0.70807258]\n"
     ]
    }
   ],
   "source": [
    "import numpy as np\n",
    "\n",
    "# 设置随机数生成器的种子\n",
    "np.random.seed(42)\n",
    "\n",
    "# 生成随机数\n",
    "random_numbers = np.random.rand(5)\n",
    "print(random_numbers)\n",
    "random_numbers = np.random.rand(5)\n",
    "print(random_numbers)"
   ]
  },
  {
   "cell_type": "code",
   "execution_count": null,
   "metadata": {},
   "outputs": [
    {
     "name": "stdout",
     "output_type": "stream",
     "text": [
      "[0.77395605 0.43887844 0.85859792 0.69736803 0.09417735]\n",
      "[0.97562235 0.7611397  0.78606431 0.12811363 0.45038594]\n"
     ]
    }
   ],
   "source": [
    "from numpy.random import Generator, PCG64\n",
    "\n",
    "# 创建一个随机数生成器对象\n",
    "rg = Generator(PCG64(42))\n",
    "\n",
    "# 生成随机数\n",
    "random_numbers = rg.random(5)\n",
    "print(random_numbers)\n",
    "random_numbers = rg.random(5)\n",
    "print(random_numbers)\n",
    "random_numbers = rg.random(5)"
   ]
  }
 ],
 "metadata": {
  "kernelspec": {
   "display_name": "RLMPC",
   "language": "python",
   "name": "python3"
  },
  "language_info": {
   "codemirror_mode": {
    "name": "ipython",
    "version": 3
   },
   "file_extension": ".py",
   "mimetype": "text/x-python",
   "name": "python",
   "nbconvert_exporter": "python",
   "pygments_lexer": "ipython3",
   "version": "3.12.7"
  }
 },
 "nbformat": 4,
 "nbformat_minor": 2
}
